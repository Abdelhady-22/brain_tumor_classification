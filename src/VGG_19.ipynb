{
 "cells": [
  {
   "cell_type": "code",
   "execution_count": null,
   "id": "2688007e",
   "metadata": {},
   "outputs": [],
   "source": [
    "import warnings\n",
    "warnings.filterwarnings('ignore')"
   ]
  },
  {
   "cell_type": "code",
   "execution_count": null,
   "id": "5e598fd4",
   "metadata": {},
   "outputs": [],
   "source": [
    "import shutil\n",
    "import os\n",
    "import random\n",
    "import cv2\n",
    "import pandas as pd\n",
    "import numpy as np\n",
    "import seaborn as sns\n",
    "import matplotlib.pyplot as plt\n",
    "from itertools import cycle\n",
    "from tqdm.auto import tqdm\n",
    "from pathlib import Path\n",
    "from sklearn.utils import resample\n",
    "from sklearn.utils import shuffle\n",
    "from sklearn.model_selection import train_test_split\n",
    "from sklearn.metrics import confusion_matrix, ConfusionMatrixDisplay\n",
    "import tensorflow as tf\n",
    "from tensorflow import keras\n",
    "from tensorflow.keras import layers, regularizers\n",
    "from tensorflow.keras.preprocessing.image import ImageDataGenerator\n",
    "from tensorflow.keras.models import load_model\n",
    "from tensorflow.keras.optimizers import Adam\n",
    "from tensorflow.keras.callbacks import EarlyStopping, ModelCheckpoint\n",
    "from tensorflow.keras.layers import Dense, Activation,Dropout,Conv2D\n",
    "from tensorflow.keras.layers import MaxPooling2D,BatchNormalization, Flatten\n",
    "from tensorflow.keras.applications import VGG19\n",
    "from tensorflow.keras.applications.vgg19 import preprocess_input as preprocess_vgg19\n",
    "from tensorflow.keras.utils import to_categorical"
   ]
  },
  {
   "cell_type": "code",
   "execution_count": null,
   "id": "f9d2a6b3",
   "metadata": {},
   "outputs": [],
   "source": [
    "train_path = '/kaggle/input/brain-tumor-mri-dataset/Training'\n",
    "test_path = '/kaggle/input/brain-tumor-mri-dataset/Testing'"
   ]
  },
  {
   "cell_type": "code",
   "execution_count": null,
   "id": "d25ed7d5",
   "metadata": {},
   "outputs": [],
   "source": [
    "def preprocess_vgg19(x):\n",
    "    return x/255.0"
   ]
  },
  {
   "cell_type": "code",
   "execution_count": null,
   "id": "8504a59c",
   "metadata": {},
   "outputs": [],
   "source": [
    "VGG19_train_datagen = ImageDataGenerator(preprocessing_function=preprocess_vgg19)\n",
    "VGG19_train_generator = VGG19_train_datagen.flow_from_directory(\n",
    "        train_path,\n",
    "        target_size=(IMAGE_SIZE,IMAGE_SIZE),\n",
    "        batch_size=BATCH_SIZE,\n",
    "        class_mode='categorical')"
   ]
  },
  {
   "cell_type": "code",
   "execution_count": null,
   "id": "2f75370d",
   "metadata": {},
   "outputs": [],
   "source": [
    "VGG19_train_generator.class_indices"
   ]
  },
  {
   "cell_type": "code",
   "execution_count": null,
   "id": "a12af2ac",
   "metadata": {},
   "outputs": [],
   "source": [
    "VGG19_test_datagen = ImageDataGenerator(preprocessing_function=preprocess_vgg19)\n",
    "VGG19_test_generator = VGG19_test_datagen.flow_from_directory(\n",
    "        test_path,\n",
    "        target_size=(IMAGE_SIZE,IMAGE_SIZE),\n",
    "        batch_size=BATCH_SIZE,\n",
    "        class_mode='categorical')"
   ]
  },
  {
   "cell_type": "code",
   "execution_count": null,
   "id": "d6b26185",
   "metadata": {},
   "outputs": [],
   "source": [
    "VGG19_test_generator.class_indices"
   ]
  },
  {
   "cell_type": "code",
   "execution_count": null,
   "id": "43eaab26",
   "metadata": {},
   "outputs": [],
   "source": [
    "trained_VGG19_layers = VGG19(weights='imagenet',include_top=False,input_shape=(IMAGE_SIZE,IMAGE_SIZE,3))"
   ]
  },
  {
   "cell_type": "code",
   "execution_count": null,
   "id": "c61bdbfe",
   "metadata": {},
   "outputs": [],
   "source": [
    "for layer in trained_VGG19_layers.layers:\n",
    "    layer.trainable = False"
   ]
  },
  {
   "cell_type": "code",
   "execution_count": null,
   "id": "ec3967b5",
   "metadata": {},
   "outputs": [],
   "source": [
    "VGG19_model = keras.models.Sequential([\n",
    "    trained_VGG19_layers,\n",
    "    keras.layers.Flatten(),\n",
    "    keras.layers.Dense(256, activation='relu'),\n",
    "    keras.layers.Dense(len(VGG16_test_generator.class_indices), activation='softmax')\n",
    "]) "
   ]
  },
  {
   "cell_type": "code",
   "execution_count": null,
   "id": "587b8c5e",
   "metadata": {},
   "outputs": [],
   "source": [
    "VGG19_model.summary()"
   ]
  },
  {
   "cell_type": "code",
   "execution_count": null,
   "id": "955d3003",
   "metadata": {},
   "outputs": [],
   "source": [
    "callbacks = [\n",
    "    EarlyStopping(\n",
    "        monitor='val_loss',    \n",
    "        patience=5,             \n",
    "        restore_best_weights=True\n",
    "    ),\n",
    "    \n",
    "    ModelCheckpoint(\n",
    "        filepath='VGG19_best_model.keras',  \n",
    "        monitor='val_loss',\n",
    "        save_best_only=True,\n",
    "        save_weights_only=False, \n",
    "        mode='min',\n",
    "        verbose=1\n",
    "    ),\n",
    "    keras.callbacks.ReduceLROnPlateau(\n",
    "        monitor='val_loss',\n",
    "        factor=0.5,\n",
    "        patience=3,\n",
    "        min_lr=1e-7,\n",
    "        verbose=1\n",
    "    )\n",
    "]"
   ]
  },
  {
   "cell_type": "code",
   "execution_count": null,
   "id": "a48a95ad",
   "metadata": {},
   "outputs": [],
   "source": [
    "VGG19_model.compile(optimizer=keras.optimizers.Adam(), \n",
    "              loss=keras.losses.CategoricalCrossentropy(), \n",
    "               metrics=['accuracy',keras.metrics.Precision(name='precision'),\n",
    "                        keras.metrics.Recall(name='recall'),\n",
    "                        keras.metrics.F1Score(name='f1_score')\n",
    "])"
   ]
  },
  {
   "cell_type": "code",
   "execution_count": null,
   "id": "6da74d9b",
   "metadata": {},
   "outputs": [],
   "source": [
    "VGG19_history = VGG19_model.fit(\n",
    "        VGG19_train_generator,\n",
    "        epochs = 20,\n",
    "        validation_data = VGG19_test_generator,\n",
    "        callbacks = callbacks\n",
    "        )"
   ]
  },
  {
   "cell_type": "code",
   "execution_count": null,
   "id": "3af62504",
   "metadata": {},
   "outputs": [],
   "source": [
    "output_path = \"/kaggle/working/merged_brain_tumor_dataset\""
   ]
  },
  {
   "cell_type": "code",
   "execution_count": null,
   "id": "3f20835f",
   "metadata": {},
   "outputs": [],
   "source": [
    "cnn_merged_datagen = ImageDataGenerator(preprocessing_function=cnn_preprocess)\n",
    "cnn_merged_generator = cnn_merged_datagen.flow_from_directory(\n",
    "        output_path,\n",
    "        target_size=(IMAGE_SIZE,IMAGE_SIZE),\n",
    "        batch_size=BATCH_SIZE,\n",
    "        class_mode='categorical')"
   ]
  },
  {
   "cell_type": "code",
   "execution_count": null,
   "id": "06a07656",
   "metadata": {},
   "outputs": [],
   "source": [
    "vgg19_predictions = VGG19_model.predict(cnn_merged_generator)"
   ]
  },
  {
   "cell_type": "code",
   "execution_count": null,
   "id": "63685c55",
   "metadata": {},
   "outputs": [],
   "source": [
    "vgg19_result = VGG19_model.evaluate(cnn_merged_generator, batch_size=BATCH_SIZE)"
   ]
  }
 ],
 "metadata": {
  "language_info": {
   "name": "python"
  }
 },
 "nbformat": 4,
 "nbformat_minor": 5
}
