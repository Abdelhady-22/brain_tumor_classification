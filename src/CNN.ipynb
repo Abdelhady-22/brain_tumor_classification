{
 "cells": [
  {
   "cell_type": "code",
   "execution_count": null,
   "id": "e70c2912",
   "metadata": {},
   "outputs": [],
   "source": [
    "import warnings\n",
    "warnings.filterwarnings('ignore')"
   ]
  },
  {
   "cell_type": "code",
   "execution_count": null,
   "id": "6898a398",
   "metadata": {},
   "outputs": [],
   "source": [
    "import shutil\n",
    "import os\n",
    "import random\n",
    "import cv2\n",
    "import pandas as pd\n",
    "import numpy as np\n",
    "import seaborn as sns\n",
    "import matplotlib.pyplot as plt\n",
    "from itertools import cycle\n",
    "from tqdm.auto import tqdm\n",
    "from pathlib import Path\n",
    "from sklearn.utils import resample\n",
    "from sklearn.utils import shuffle\n",
    "from sklearn.model_selection import train_test_split\n",
    "from sklearn.metrics import confusion_matrix, ConfusionMatrixDisplay\n",
    "import tensorflow as tf\n",
    "from tensorflow import keras\n",
    "from tensorflow.keras import layers, regularizers\n",
    "from tensorflow.keras.preprocessing.image import ImageDataGenerator\n",
    "from tensorflow.keras.models import load_model\n",
    "from tensorflow.keras.optimizers import Adam\n",
    "from tensorflow.keras.callbacks import EarlyStopping, ModelCheckpoint\n",
    "from tensorflow.keras.layers import Dense, Activation,Dropout,Conv2D\n",
    "from tensorflow.keras.layers import MaxPooling2D,BatchNormalization, Flatten\n",
    "from tensorflow.keras.utils import to_categorical"
   ]
  },
  {
   "cell_type": "code",
   "execution_count": null,
   "id": "33eb1138",
   "metadata": {},
   "outputs": [],
   "source": [
    "train_path = '/kaggle/input/brain-tumor-mri-dataset/Training'\n",
    "test_path = '/kaggle/input/brain-tumor-mri-dataset/Testing'"
   ]
  },
  {
   "cell_type": "code",
   "execution_count": null,
   "id": "1469653c",
   "metadata": {},
   "outputs": [],
   "source": [
    "IMAGE_SIZE = 224\n",
    "\n",
    "BATCH_SIZE = 32"
   ]
  },
  {
   "cell_type": "code",
   "execution_count": null,
   "id": "b82bda0c",
   "metadata": {},
   "outputs": [],
   "source": [
    "def cnn_preprocess(x):\n",
    "    return x/255.0"
   ]
  },
  {
   "cell_type": "code",
   "execution_count": null,
   "id": "af88deb1",
   "metadata": {},
   "outputs": [],
   "source": [
    "cnn_train_datagen = ImageDataGenerator(preprocessing_function=cnn_preprocess)\n",
    "cnn_train_generator = cnn_train_datagen.flow_from_directory(\n",
    "        train_path,\n",
    "        target_size=(IMAGE_SIZE,IMAGE_SIZE),\n",
    "        batch_size=BATCH_SIZE,\n",
    "        class_mode='categorical')"
   ]
  },
  {
   "cell_type": "code",
   "execution_count": null,
   "id": "a6bd9346",
   "metadata": {},
   "outputs": [],
   "source": [
    "cnn_train_generator.class_indices"
   ]
  },
  {
   "cell_type": "code",
   "execution_count": null,
   "id": "fab85cd3",
   "metadata": {},
   "outputs": [],
   "source": [
    "cnn_test_datagen = ImageDataGenerator(preprocessing_function=cnn_preprocess)\n",
    "cnn_test_generator = cnn_test_datagen.flow_from_directory(\n",
    "        test_path,\n",
    "        target_size=(IMAGE_SIZE,IMAGE_SIZE),\n",
    "        batch_size=BATCH_SIZE,\n",
    "        class_mode='categorical')"
   ]
  },
  {
   "cell_type": "code",
   "execution_count": null,
   "id": "ea5ff728",
   "metadata": {},
   "outputs": [],
   "source": [
    "cnn_test_generator.class_indices"
   ]
  },
  {
   "cell_type": "code",
   "execution_count": null,
   "id": "9b95cd58",
   "metadata": {},
   "outputs": [],
   "source": [
    "cnn_model = keras.Sequential([\n",
    "    keras.layers.Input(shape=(IMAGE_SIZE, IMAGE_SIZE, 3)),\n",
    "\n",
    "    keras.layers.Conv2D(filters=64, kernel_size=(3, 3), activation='relu'),\n",
    "    keras.layers.MaxPooling2D(pool_size=(2, 2)),\n",
    "\n",
    "    keras.layers.Conv2D(filters=64, kernel_size=(3, 3), activation='relu'),\n",
    "    keras.layers.MaxPooling2D(pool_size=(2, 2)),\n",
    "\n",
    "    keras.layers.Conv2D(filters=128, kernel_size=(3, 3), activation='relu'),\n",
    "    keras.layers.MaxPooling2D(pool_size=(2, 2)),\n",
    "\n",
    "    keras.layers.Flatten(),\n",
    "    keras.layers.Dropout(0.4),\n",
    "\n",
    "    keras.layers.Dense(units=128, activation='relu'),\n",
    "    keras.layers.Dense(units=64, activation='relu'),\n",
    "    keras.layers.Dense(units=64, activation='relu'),\n",
    "\n",
    "    keras.layers.Dense(units=len(cnn_test_generator.class_indices), activation='softmax', dtype='float32')\n",
    "])"
   ]
  },
  {
   "cell_type": "code",
   "execution_count": null,
   "id": "296b3f0f",
   "metadata": {},
   "outputs": [],
   "source": [
    "cnn_model.summary()"
   ]
  },
  {
   "cell_type": "code",
   "execution_count": null,
   "id": "84120580",
   "metadata": {},
   "outputs": [],
   "source": [
    "callbacks = [\n",
    "    EarlyStopping(\n",
    "        monitor='val_loss',    \n",
    "        patience=5,             \n",
    "        restore_best_weights=True\n",
    "    ),\n",
    "    \n",
    "    ModelCheckpoint(\n",
    "        filepath='CNN_best_model.keras',  \n",
    "        monitor='val_loss',\n",
    "        save_best_only=True,\n",
    "        save_weights_only=False, \n",
    "        mode='min',\n",
    "        verbose=1\n",
    "    ),\n",
    "    keras.callbacks.ReduceLROnPlateau(\n",
    "        monitor='val_loss',\n",
    "        factor=0.5,\n",
    "        patience=3,\n",
    "        min_lr=1e-7,\n",
    "        verbose=1\n",
    "    )\n",
    "]"
   ]
  },
  {
   "cell_type": "code",
   "execution_count": null,
   "id": "d7f5f026",
   "metadata": {},
   "outputs": [],
   "source": [
    "cnn_model.compile(optimizer=keras.optimizers.Adam(learning_rate=0.0001), \n",
    "              loss=keras.losses.CategoricalCrossentropy(), \n",
    "               metrics=['accuracy',keras.metrics.Precision(name='precision'),\n",
    "                                   keras.metrics.Recall(name='recall'),\n",
    "                                   keras.metrics.F1Score(name='f1_score')\n",
    "])"
   ]
  },
  {
   "cell_type": "code",
   "execution_count": null,
   "id": "27e1cd45",
   "metadata": {},
   "outputs": [],
   "source": [
    "cnn_history = cnn_model.fit(\n",
    "        cnn_train_generator,\n",
    "        epochs = 20,\n",
    "        validation_data = cnn_test_generator,\n",
    "        callbacks = callbacks\n",
    "        )"
   ]
  },
  {
   "cell_type": "code",
   "execution_count": null,
   "id": "c9862f85",
   "metadata": {},
   "outputs": [],
   "source": [
    "output_path = \"/kaggle/working/merged_brain_tumor_dataset\""
   ]
  },
  {
   "cell_type": "code",
   "execution_count": null,
   "id": "bd5c1c71",
   "metadata": {},
   "outputs": [],
   "source": [
    "cnn_merged_datagen = ImageDataGenerator(preprocessing_function=cnn_preprocess)\n",
    "cnn_merged_generator = cnn_merged_datagen.flow_from_directory(\n",
    "        output_path,\n",
    "        target_size=(IMAGE_SIZE,IMAGE_SIZE),\n",
    "        batch_size=BATCH_SIZE,\n",
    "        class_mode='categorical')"
   ]
  },
  {
   "cell_type": "code",
   "execution_count": null,
   "id": "a2bab7dc",
   "metadata": {},
   "outputs": [],
   "source": [
    "cnn_predictions = cnn_model.predict(cnn_merged_generator)"
   ]
  },
  {
   "cell_type": "code",
   "execution_count": null,
   "id": "2f51d462",
   "metadata": {},
   "outputs": [],
   "source": [
    "cnn_result = cnn_model.evaluate(cnn_merged_generator, batch_size=BATCH_SIZE)"
   ]
  }
 ],
 "metadata": {
  "kernelspec": {
   "display_name": "Python 3",
   "language": "python",
   "name": "python3"
  },
  "language_info": {
   "name": "python",
   "version": "3.10.11"
  }
 },
 "nbformat": 4,
 "nbformat_minor": 5
}
