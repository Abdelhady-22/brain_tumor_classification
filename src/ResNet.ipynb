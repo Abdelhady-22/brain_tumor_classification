{
 "cells": [
  {
   "cell_type": "code",
   "execution_count": null,
   "id": "feb6e991",
   "metadata": {},
   "outputs": [],
   "source": [
    "import warnings\n",
    "warnings.filterwarnings('ignore')"
   ]
  },
  {
   "cell_type": "code",
   "execution_count": null,
   "id": "0a51356a",
   "metadata": {},
   "outputs": [],
   "source": [
    "import shutil\n",
    "import os\n",
    "import random\n",
    "import cv2\n",
    "import pandas as pd\n",
    "import numpy as np\n",
    "import seaborn as sns\n",
    "import matplotlib.pyplot as plt\n",
    "from itertools import cycle\n",
    "from tqdm.auto import tqdm\n",
    "from pathlib import Path\n",
    "from sklearn.utils import resample\n",
    "from sklearn.utils import shuffle\n",
    "from sklearn.model_selection import train_test_split\n",
    "from sklearn.metrics import confusion_matrix, ConfusionMatrixDisplay\n",
    "import tensorflow as tf\n",
    "from tensorflow import keras\n",
    "from tensorflow.keras import layers, regularizers\n",
    "from tensorflow.keras.preprocessing.image import ImageDataGenerator\n",
    "from tensorflow.keras.models import load_model\n",
    "from tensorflow.keras.optimizers import Adam\n",
    "from tensorflow.keras.callbacks import EarlyStopping, ModelCheckpoint\n",
    "from tensorflow.keras.layers import Dense, Activation,Dropout,Conv2D\n",
    "from tensorflow.keras.layers import MaxPooling2D,BatchNormalization, Flatten\n",
    "from tensorflow.keras.applications import ResNet50V2\n",
    "from tensorflow.keras.applications.resnet_v2 import preprocess_input as preprocess_resnet50v2\n",
    "\n",
    "from tensorflow.keras.utils import to_categorical"
   ]
  },
  {
   "cell_type": "code",
   "execution_count": null,
   "id": "5d4d5362",
   "metadata": {},
   "outputs": [],
   "source": [
    "train_path = '/kaggle/input/brain-tumor-mri-dataset/Training'\n",
    "test_path = '/kaggle/input/brain-tumor-mri-dataset/Testing'"
   ]
  },
  {
   "cell_type": "code",
   "execution_count": null,
   "id": "e0c92563",
   "metadata": {},
   "outputs": [],
   "source": [
    "def preprocess_resnet(x):\n",
    "    return x/255.0"
   ]
  },
  {
   "cell_type": "code",
   "execution_count": null,
   "id": "0e0b0a83",
   "metadata": {},
   "outputs": [],
   "source": [
    "ResNet_train_datagen = ImageDataGenerator(preprocessing_function=preprocess_resnet)\n",
    "ResNet_train_generator = ResNet_train_datagen.flow_from_directory(\n",
    "        train_path,\n",
    "        target_size=(IMAGE_SIZE,IMAGE_SIZE),\n",
    "        batch_size=BATCH_SIZE,\n",
    "        class_mode='categorical')"
   ]
  },
  {
   "cell_type": "code",
   "execution_count": null,
   "id": "c6632933",
   "metadata": {},
   "outputs": [],
   "source": [
    "ResNet_train_generator.class_indices"
   ]
  },
  {
   "cell_type": "code",
   "execution_count": null,
   "id": "e28fb343",
   "metadata": {},
   "outputs": [],
   "source": [
    "ResNet_test_datagen = ImageDataGenerator(preprocessing_function=preprocess_resnet)\n",
    "ResNet_test_generator = ResNet_test_datagen.flow_from_directory(\n",
    "        test_path,\n",
    "        target_size=(IMAGE_SIZE,IMAGE_SIZE),\n",
    "        batch_size=BATCH_SIZE,\n",
    "        class_mode='categorical')"
   ]
  },
  {
   "cell_type": "code",
   "execution_count": null,
   "id": "4da3549e",
   "metadata": {},
   "outputs": [],
   "source": [
    "ResNet_test_generator.class_indices"
   ]
  },
  {
   "cell_type": "code",
   "execution_count": null,
   "id": "c22f0214",
   "metadata": {},
   "outputs": [],
   "source": [
    "trained_ResNet_layers = ResNet50V2(weights='imagenet',include_top=False,input_shape=(IMAGE_SIZE,IMAGE_SIZE,3))"
   ]
  },
  {
   "cell_type": "code",
   "execution_count": null,
   "id": "86c4adbf",
   "metadata": {},
   "outputs": [],
   "source": [
    "for layer in trained_ResNet_layers.layers:\n",
    "    layer.trainable = False"
   ]
  },
  {
   "cell_type": "code",
   "execution_count": null,
   "id": "c2a2bff3",
   "metadata": {},
   "outputs": [],
   "source": [
    "ResNet_model = keras.models.Sequential([\n",
    "    trained_ResNet_layers,\n",
    "    keras.layers.GlobalAveragePooling2D(),\n",
    "    keras.layers.Dense(256, activation='relu'),\n",
    "    keras.layers.Dense(len(ResNet_test_generator.class_indices), activation='softmax')\n",
    "])"
   ]
  },
  {
   "cell_type": "code",
   "execution_count": null,
   "id": "fd7307c9",
   "metadata": {},
   "outputs": [],
   "source": [
    "ResNet_model.summary()"
   ]
  },
  {
   "cell_type": "code",
   "execution_count": null,
   "id": "d61d2da4",
   "metadata": {},
   "outputs": [],
   "source": [
    "callbacks = [\n",
    "    EarlyStopping(\n",
    "        monitor='val_loss',    \n",
    "        patience=5,             \n",
    "        restore_best_weights=True\n",
    "    ),\n",
    "    \n",
    "    ModelCheckpoint(\n",
    "        filepath='ResNet_best_model.keras',  \n",
    "        monitor='val_loss',\n",
    "        save_best_only=True,\n",
    "        save_weights_only=False, \n",
    "        mode='min',\n",
    "        verbose=1\n",
    "    ),\n",
    "    keras.callbacks.ReduceLROnPlateau(\n",
    "        monitor='val_loss',\n",
    "        factor=0.5,\n",
    "        patience=3,\n",
    "        min_lr=1e-7,\n",
    "        verbose=1\n",
    "    )\n",
    "]"
   ]
  },
  {
   "cell_type": "code",
   "execution_count": null,
   "id": "6ac949b6",
   "metadata": {},
   "outputs": [],
   "source": [
    "ResNet_model.compile(optimizer=keras.optimizers.Adam(), \n",
    "              loss=keras.losses.CategoricalCrossentropy(), \n",
    "               metrics=['accuracy',keras.metrics.Precision(name='precision'),\n",
    "                        keras.metrics.Recall(name='recall'),\n",
    "                        keras.metrics.F1Score(name='f1_score')                      \n",
    "])"
   ]
  },
  {
   "cell_type": "code",
   "execution_count": null,
   "id": "2869fd72",
   "metadata": {},
   "outputs": [],
   "source": [
    "ResNet_history = ResNet_model.fit(\n",
    "        ResNet_train_generator,\n",
    "        epochs = 20,\n",
    "        validation_data = ResNet_test_generator,\n",
    "        callbacks = callbacks\n",
    "        )"
   ]
  },
  {
   "cell_type": "code",
   "execution_count": null,
   "id": "acd98fc1",
   "metadata": {},
   "outputs": [],
   "source": [
    "output_path = \"/kaggle/working/merged_brain_tumor_dataset\""
   ]
  },
  {
   "cell_type": "code",
   "execution_count": null,
   "id": "48af1c22",
   "metadata": {},
   "outputs": [],
   "source": [
    "cnn_merged_datagen = ImageDataGenerator(preprocessing_function=cnn_preprocess)\n",
    "cnn_merged_generator = cnn_merged_datagen.flow_from_directory(\n",
    "        output_path,\n",
    "        target_size=(IMAGE_SIZE,IMAGE_SIZE),\n",
    "        batch_size=BATCH_SIZE,\n",
    "        class_mode='categorical')"
   ]
  },
  {
   "cell_type": "code",
   "execution_count": null,
   "id": "e22595ff",
   "metadata": {},
   "outputs": [],
   "source": [
    "resnet_predictions = ResNet_model.predict(cnn_merged_generator)"
   ]
  },
  {
   "cell_type": "code",
   "execution_count": null,
   "id": "54666485",
   "metadata": {},
   "outputs": [],
   "source": [
    "resnet_result = ResNet_model.evaluate(cnn_merged_generator, batch_size=BATCH_SIZE)"
   ]
  }
 ],
 "metadata": {
  "language_info": {
   "name": "python"
  }
 },
 "nbformat": 4,
 "nbformat_minor": 5
}
