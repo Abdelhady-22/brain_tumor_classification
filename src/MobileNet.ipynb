{
 "cells": [
  {
   "cell_type": "code",
   "execution_count": null,
   "id": "7a28515d",
   "metadata": {},
   "outputs": [],
   "source": [
    "import warnings\n",
    "warnings.filterwarnings('ignore')"
   ]
  },
  {
   "cell_type": "code",
   "execution_count": null,
   "id": "9b8837d2",
   "metadata": {},
   "outputs": [],
   "source": [
    "import shutil\n",
    "import os\n",
    "import random\n",
    "import cv2\n",
    "import pandas as pd\n",
    "import numpy as np\n",
    "import seaborn as sns\n",
    "import matplotlib.pyplot as plt\n",
    "from itertools import cycle\n",
    "from tqdm.auto import tqdm\n",
    "from pathlib import Path\n",
    "from sklearn.utils import resample\n",
    "from sklearn.utils import shuffle\n",
    "from sklearn.model_selection import train_test_split\n",
    "from sklearn.metrics import confusion_matrix, ConfusionMatrixDisplay\n",
    "import tensorflow as tf\n",
    "from tensorflow import keras\n",
    "from tensorflow.keras import layers, regularizers\n",
    "from tensorflow.keras.preprocessing.image import ImageDataGenerator\n",
    "from tensorflow.keras.models import load_model\n",
    "from tensorflow.keras.optimizers import Adam\n",
    "from tensorflow.keras.callbacks import EarlyStopping, ModelCheckpoint\n",
    "from tensorflow.keras.layers import Dense, Activation,Dropout,Conv2D\n",
    "from tensorflow.keras.layers import MaxPooling2D,BatchNormalization, Flatten\n",
    "from tensorflow.keras.applications import MobileNetV2\n",
    "from tensorflow.keras.applications.mobilenet_v2 import preprocess_input as preprocess_mobilenetv2\n",
    "from tensorflow.keras.utils import to_categorical"
   ]
  },
  {
   "cell_type": "code",
   "execution_count": null,
   "id": "775dc499",
   "metadata": {},
   "outputs": [],
   "source": [
    "train_path = '/kaggle/input/brain-tumor-mri-dataset/Training'\n",
    "test_path = '/kaggle/input/brain-tumor-mri-dataset/Testing'"
   ]
  },
  {
   "cell_type": "code",
   "execution_count": null,
   "id": "09c804e8",
   "metadata": {},
   "outputs": [],
   "source": [
    "def preprocess_mobilenet(x):\n",
    "    return x/255.0"
   ]
  },
  {
   "cell_type": "code",
   "execution_count": null,
   "id": "06836c10",
   "metadata": {},
   "outputs": [],
   "source": [
    "MobileNet_train_datagen = ImageDataGenerator(preprocessing_function=preprocess_mobilenet)\n",
    "MobileNet_train_generator = MobileNet_train_datagen.flow_from_directory(\n",
    "        train_path,\n",
    "        target_size=(IMAGE_SIZE,IMAGE_SIZE),\n",
    "        batch_size=BATCH_SIZE,\n",
    "        class_mode='categorical')"
   ]
  },
  {
   "cell_type": "code",
   "execution_count": null,
   "id": "fc31e092",
   "metadata": {},
   "outputs": [],
   "source": [
    "MobileNet_train_generator.class_indices"
   ]
  },
  {
   "cell_type": "code",
   "execution_count": null,
   "id": "036fa019",
   "metadata": {},
   "outputs": [],
   "source": [
    "MobileNet_test_datagen = ImageDataGenerator(preprocessing_function=preprocess_mobilenet)\n",
    "MobileNet_test_generator = MobileNet_test_datagen.flow_from_directory(\n",
    "        test_path,\n",
    "        target_size=(IMAGE_SIZE,IMAGE_SIZE),\n",
    "        batch_size=BATCH_SIZE,\n",
    "        class_mode='categorical')"
   ]
  },
  {
   "cell_type": "code",
   "execution_count": null,
   "id": "0f7fd992",
   "metadata": {},
   "outputs": [],
   "source": [
    "MobileNet_test_generator.class_indices"
   ]
  },
  {
   "cell_type": "code",
   "execution_count": null,
   "id": "775e637a",
   "metadata": {},
   "outputs": [],
   "source": [
    "trained_MobileNet_layers = MobileNetV2(weights='imagenet',include_top=False,input_shape=(IMAGE_SIZE,IMAGE_SIZE,3))"
   ]
  },
  {
   "cell_type": "code",
   "execution_count": null,
   "id": "79d7fca4",
   "metadata": {},
   "outputs": [],
   "source": [
    "for layer in trained_MobileNet_layers.layers:\n",
    "    layer.trainable = False"
   ]
  },
  {
   "cell_type": "code",
   "execution_count": null,
   "id": "8ab1ba4f",
   "metadata": {},
   "outputs": [],
   "source": [
    "MobileNet_model = keras.models.Sequential([\n",
    "    trained_MobileNet_layers,\n",
    "    keras.layers.GlobalAveragePooling2D(),\n",
    "    keras.layers.Dense(256, activation='relu'),\n",
    "    keras.layers.Dense(len(MobileNet_test_generator.class_indices), activation='softmax')\n",
    "]) "
   ]
  },
  {
   "cell_type": "code",
   "execution_count": null,
   "id": "298f973a",
   "metadata": {},
   "outputs": [],
   "source": [
    "MobileNet_model.summary()"
   ]
  },
  {
   "cell_type": "code",
   "execution_count": null,
   "id": "30e7f9ff",
   "metadata": {},
   "outputs": [],
   "source": [
    "callbacks = [\n",
    "    EarlyStopping(\n",
    "        monitor='val_loss',    \n",
    "        patience=5,             \n",
    "        restore_best_weights=True\n",
    "    ),\n",
    "    \n",
    "    ModelCheckpoint(\n",
    "        filepath='MobileNet_best_model.keras',  \n",
    "        monitor='val_loss',\n",
    "        save_best_only=True,\n",
    "        save_weights_only=False, \n",
    "        mode='min',\n",
    "        verbose=1\n",
    "    ),\n",
    "    keras.callbacks.ReduceLROnPlateau(\n",
    "        monitor='val_loss',\n",
    "        factor=0.5,\n",
    "        patience=3,\n",
    "        min_lr=1e-7,\n",
    "        verbose=1\n",
    "    )\n",
    "]"
   ]
  },
  {
   "cell_type": "code",
   "execution_count": null,
   "id": "deb3c16f",
   "metadata": {},
   "outputs": [],
   "source": [
    "MobileNet_model.compile(optimizer=keras.optimizers.Adam(), \n",
    "              loss=keras.losses.CategoricalCrossentropy(), \n",
    "               metrics=['accuracy',keras.metrics.Precision(name='precision'),\n",
    "                        keras.metrics.Recall(name='recall'),\n",
    "                        keras.metrics.F1Score(name='f1_score')\n",
    "])"
   ]
  },
  {
   "cell_type": "code",
   "execution_count": null,
   "id": "dff802e1",
   "metadata": {},
   "outputs": [],
   "source": [
    "MobileNet_history = MobileNet_model.fit(\n",
    "        MobileNet_train_generator,\n",
    "        epochs = 20,\n",
    "        validation_data = MobileNet_test_generator,\n",
    "        callbacks = callbacks\n",
    "        )"
   ]
  },
  {
   "cell_type": "code",
   "execution_count": null,
   "id": "fadd3494",
   "metadata": {},
   "outputs": [],
   "source": [
    "output_path = \"/kaggle/working/merged_brain_tumor_dataset\""
   ]
  },
  {
   "cell_type": "code",
   "execution_count": null,
   "id": "4a672bc4",
   "metadata": {},
   "outputs": [],
   "source": [
    "cnn_merged_datagen = ImageDataGenerator(preprocessing_function=cnn_preprocess)\n",
    "cnn_merged_generator = cnn_merged_datagen.flow_from_directory(\n",
    "        output_path,\n",
    "        target_size=(IMAGE_SIZE,IMAGE_SIZE),\n",
    "        batch_size=BATCH_SIZE,\n",
    "        class_mode='categorical')"
   ]
  },
  {
   "cell_type": "code",
   "execution_count": null,
   "id": "32c65beb",
   "metadata": {},
   "outputs": [],
   "source": [
    "mobilenet_predictions = MobileNet_model.predict(cnn_merged_generator)"
   ]
  },
  {
   "cell_type": "code",
   "execution_count": null,
   "id": "212704a3",
   "metadata": {},
   "outputs": [],
   "source": [
    "mobilenet_result = MobileNet_model.evaluate(cnn_merged_generator, batch_size=BATCH_SIZE)"
   ]
  }
 ],
 "metadata": {
  "language_info": {
   "name": "python"
  }
 },
 "nbformat": 4,
 "nbformat_minor": 5
}
